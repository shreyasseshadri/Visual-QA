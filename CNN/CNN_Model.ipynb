{
  "nbformat": 4,
  "nbformat_minor": 0,
  "metadata": {
    "colab": {
      "name": "CNN_Model.ipynb",
      "version": "0.3.2",
      "provenance": [],
      "collapsed_sections": []
    },
    "kernelspec": {
      "name": "python3",
      "display_name": "Python 3"
    },
    "accelerator": "GPU"
  },
  "cells": [
    {
      "metadata": {
        "id": "yKHbDJhjj-bs",
        "colab_type": "text"
      },
      "cell_type": "markdown",
      "source": [
        "The tensorflow module needs to be imported and used.\n",
        "This is done from the below given data repository,\n",
        "one hot refers to representaion of 0-9 digits as one-hot state encoding method of electrical circuits\n",
        "(Ex : 1 as 000000001, 2 as 000000010 and so on...)"
      ]
    },
    {
      "metadata": {
        "id": "xFzMvt08fhx8",
        "colab_type": "code",
        "colab": {
          "base_uri": "https://localhost:8080/",
          "height": 84
        },
        "outputId": "dd04bd73-c0b4-4be3-c879-a7f18b85c77b"
      },
      "cell_type": "code",
      "source": [
        "import tensorflow as tf\n",
        "from tensorflow.examples.tutorials.mnist import input_data\n",
        "mnist = input_data.read_data_sets(\"/tmp/data/\", one_hot = True)\n",
        "\n"
      ],
      "execution_count": 9,
      "outputs": [
        {
          "output_type": "stream",
          "text": [
            "Extracting /tmp/data/train-images-idx3-ubyte.gz\n",
            "Extracting /tmp/data/train-labels-idx1-ubyte.gz\n",
            "Extracting /tmp/data/t10k-images-idx3-ubyte.gz\n",
            "Extracting /tmp/data/t10k-labels-idx1-ubyte.gz\n"
          ],
          "name": "stdout"
        }
      ]
    },
    {
      "metadata": {
        "id": "uRIr9u4b2O-I",
        "colab_type": "text"
      },
      "cell_type": "markdown",
      "source": [
        ""
      ]
    },
    {
      "metadata": {
        "id": "3S9inVGTDcQl",
        "colab_type": "code",
        "colab": {}
      },
      "cell_type": "code",
      "source": [
        "n_classes = 10 #Since one class for each of the digits 0-9\n",
        "batch_size = 128 #feeding 128 values at once through the model\n",
        "\n",
        "x = tf.placeholder('float', [None, 784]) #the input holder variable, stores in 28*28 pixels as a 1D array (height=None) and size 28*28=784(width=784)\n",
        "y = tf.placeholder('float')              #the holder variable that'll contain the labels to compare obtained outputs with"
      ],
      "execution_count": 0,
      "outputs": []
    },
    {
      "metadata": {
        "id": "_JOCNexNDfV8",
        "colab_type": "code",
        "colab": {}
      },
      "cell_type": "code",
      "source": [
        "#creating convulations\n",
        "def conv2d(x, W):\n",
        "    return tf.nn.conv2d(x, W, strides=[1,1,1,1], padding='SAME')\n",
        "\n",
        "#creating a pool\n",
        "def maxpool2d(x):\n",
        "    #                        size of window         movement of window\n",
        "    return tf.nn.max_pool(x, ksize=[1,2,2,1], strides=[1,2,2,1], padding='SAME')"
      ],
      "execution_count": 0,
      "outputs": []
    },
    {
      "metadata": {
        "id": "7dcQbxB9Dfch",
        "colab_type": "code",
        "colab": {}
      },
      "cell_type": "code",
      "source": [
        "def convolutional_neural_network(x):\n",
        "    weights = {'W_conv1':tf.Variable(tf.random_normal([5,5,1,32])),   #5*5 convulation , 1 image input and 32 outputs\n",
        "               'W_conv2':tf.Variable(tf.random_normal([5,5,32,64])),  #5*5 convulation , 32 inputs and 64 outputs\n",
        "               'W_fc':tf.Variable(tf.random_normal([7*7*64,1024])),   #fully_connected layer , 7*7*64 inputs , 1024 outputs \n",
        "               'out':tf.Variable(tf.random_normal([1024, n_classes]))}#1024 inputs , 10 outputs\n",
        "\n",
        "    #biases exist only for outputs and hence the following values for the layers\n",
        "    biases = {'b_conv1':tf.Variable(tf.random_normal([32])),\n",
        "               'b_conv2':tf.Variable(tf.random_normal([64])),\n",
        "               'b_fc':tf.Variable(tf.random_normal([1024])),\n",
        "               'out':tf.Variable(tf.random_normal([n_classes]))}\n",
        "\n",
        "    #reashaping input to a 4D tensor\n",
        "    x = tf.reshape(x, shape=[-1, 28, 28, 1])\n",
        "    \n",
        "    #convulation layer\n",
        "    conv1 = tf.nn.relu(conv2d(x, weights['W_conv1']) + biases['b_conv1'])  #recitified linear functiopn applied to implement model of (input * weights) + biases\n",
        "    conv1 = maxpool2d(conv1)  #maxpool formed out of the convulation\n",
        "   \n",
        "    #convulation layer 2\n",
        "    conv2 = tf.nn.relu(conv2d(conv1, weights['W_conv2']) + biases['b_conv2'])  #recitified linear functiopn applied to implement model of (input * weights) + biases\n",
        "    conv2 = maxpool2d(conv2)   #maxpool formed out of the convulation\n",
        "\n",
        "    #fully connected layer\n",
        "    #reshape output of convulation Layer2 to fit fully connected layer\n",
        "    fc = tf.reshape(conv2,[-1, 7*7*64])\n",
        "    fc = tf.nn.relu(tf.matmul(fc, weights['W_fc'])+biases['b_fc'])\n",
        "\n",
        "    output = tf.matmul(fc, weights['out'])+biases['out']\n",
        "\n",
        "    return output"
      ],
      "execution_count": 0,
      "outputs": []
    },
    {
      "metadata": {
        "id": "ontpag0gDfoV",
        "colab_type": "code",
        "colab": {
          "base_uri": "https://localhost:8080/",
          "height": 202
        },
        "outputId": "93615edc-f082-436e-8c61-bdd7fdce8171"
      },
      "cell_type": "code",
      "source": [
        "def train_neural_network(x):\n",
        "    #prediction stores the one hot encoded results from network model\n",
        "    prediction = convolutional_neural_network(x)\n",
        "    #these predictiosn are further comapred to already stored labels\n",
        "    #declaring the cost functi\n",
        "    cost = tf.reduce_mean( tf.nn.softmax_cross_entropy_with_logits(logits=prediction,labels=y) )\n",
        "    #Adan optimizer is a frequently used optimization algo used in deep learning based on stochastic gradient descent, Here it set ot train to minimize cost\n",
        "    optimizer = tf.train.AdamOptimizer().minimize(cost)\n",
        "    \n",
        "    #epoch is the number of cycles , where one cycle is oen feed forward + one back propagation \n",
        "    hm_epochs = 10\n",
        "    \n",
        "    #running the TensorFlow seesion\n",
        "    with tf.Session() as sess:\n",
        "        #just to initialise all variables\n",
        "        sess.run(tf.initialize_all_variables())\n",
        "\n",
        "        #running a loop for 'epoch' number of times\n",
        "        for epoch in range(hm_epochs):\n",
        "          \n",
        "            #to calculate epocch_loss in evry iteration\n",
        "            epoch_loss = 0\n",
        "            #dividing number of examples with batch size to figure no. of iterations to go through\n",
        "            for _ in range(int(mnist.train.num_examples/batch_size)):\n",
        "              \n",
        "                #initialising set values of x and y for every chunk of data (every batch)\n",
        "                epoch_x, epoch_y = mnist.train.next_batch(batch_size)\n",
        "                _, c = sess.run([optimizer, cost], feed_dict={x: epoch_x, y: epoch_y})\n",
        "                epoch_loss += c\n",
        "            #print epoch_loss to keep track of completion\n",
        "            print('Epoch', epoch, 'completed out of',hm_epochs,'loss:',epoch_loss)\n",
        "        \n",
        "        #to check if the one hot encoding of prediction is same as actual label\n",
        "        correct = tf.equal(tf.argmax(prediction, 1), tf.argmax(y, 1))\n",
        "\n",
        "        #to compute accuracy as mean of all 'correct' values obtained so far\n",
        "        accuracy = tf.reduce_mean(tf.cast(correct, 'float'))\n",
        "        print('Accuracy:',accuracy.eval({x:mnist.test.images, y:mnist.test.labels}))\n",
        "\n",
        "#function call to train the netwrok model\n",
        "train_neural_network(x)"
      ],
      "execution_count": 13,
      "outputs": [
        {
          "output_type": "stream",
          "text": [
            "Epoch 0 completed out of 10 loss: 1406681.4548950195\n",
            "Epoch 1 completed out of 10 loss: 218930.3212738037\n",
            "Epoch 2 completed out of 10 loss: 129797.74012756348\n",
            "Epoch 3 completed out of 10 loss: 89777.68626403809\n",
            "Epoch 4 completed out of 10 loss: 58682.71881000602\n",
            "Epoch 5 completed out of 10 loss: 42439.06740760803\n",
            "Epoch 6 completed out of 10 loss: 36668.34846878052\n",
            "Epoch 7 completed out of 10 loss: 27645.200339399693\n",
            "Epoch 8 completed out of 10 loss: 24319.295329806395\n",
            "Epoch 9 completed out of 10 loss: 16152.30190706253\n",
            "Accuracy: 0.9784\n"
          ],
          "name": "stdout"
        }
      ]
    }
  ]
}